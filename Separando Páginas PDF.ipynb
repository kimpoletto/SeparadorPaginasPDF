{
 "cells": [
  {
   "cell_type": "code",
   "execution_count": 1,
   "id": "c851c7ac",
   "metadata": {},
   "outputs": [
    {
     "name": "stdout",
     "output_type": "stream",
     "text": [
      "Requirement already satisfied: PyPDF2 in c:\\users\\kimge\\anaconda3\\lib\\site-packages (3.0.1)\n",
      "Requirement already satisfied: typing_extensions>=3.10.0.0 in c:\\users\\kimge\\anaconda3\\lib\\site-packages (from PyPDF2) (4.5.0)\n"
     ]
    }
   ],
   "source": [
    "!pip install PyPDF2"
   ]
  },
  {
   "cell_type": "code",
   "execution_count": 3,
   "id": "1d9f8d43",
   "metadata": {},
   "outputs": [
    {
     "name": "stdout",
     "output_type": "stream",
     "text": [
      "Página 1 separada em D:\\BACKUPS !\\PEN DRIVE PRETO\\UESC\\page_1.pdf\n",
      "Página 2 separada em D:\\BACKUPS !\\PEN DRIVE PRETO\\UESC\\page_2.pdf\n",
      "Página 3 separada em D:\\BACKUPS !\\PEN DRIVE PRETO\\UESC\\page_3.pdf\n",
      "Página 4 separada em D:\\BACKUPS !\\PEN DRIVE PRETO\\UESC\\page_4.pdf\n",
      "Página 5 separada em D:\\BACKUPS !\\PEN DRIVE PRETO\\UESC\\page_5.pdf\n",
      "Página 6 separada em D:\\BACKUPS !\\PEN DRIVE PRETO\\UESC\\page_6.pdf\n",
      "Página 7 separada em D:\\BACKUPS !\\PEN DRIVE PRETO\\UESC\\page_7.pdf\n",
      "Página 8 separada em D:\\BACKUPS !\\PEN DRIVE PRETO\\UESC\\page_8.pdf\n",
      "Página 9 separada em D:\\BACKUPS !\\PEN DRIVE PRETO\\UESC\\page_9.pdf\n"
     ]
    }
   ],
   "source": [
    "import os\n",
    "from PyPDF2 import PdfReader, PdfWriter\n",
    "\n",
    "def split_pdf_pages(input_path, output_directory):\n",
    "    # Abre o arquivo PDF de entrada\n",
    "    with open(input_path, 'rb') as input_file:\n",
    "        pdf_reader = PdfReader(input_file)\n",
    "\n",
    "        # Cria um diretório de saída, se não existir\n",
    "        os.makedirs(output_directory, exist_ok=True)\n",
    "\n",
    "        # Separa cada página em um arquivo PDF individual\n",
    "        for page_number in range(len(pdf_reader.pages)):\n",
    "            output_file_path = os.path.join(output_directory, f'page_{page_number + 1}.pdf')\n",
    "            pdf_writer = PdfWriter()\n",
    "            pdf_writer.add_page(pdf_reader.pages[page_number])\n",
    "\n",
    "            with open(output_file_path, 'wb') as output_file:\n",
    "                pdf_writer.write(output_file)\n",
    "\n",
    "            print(f'Página {page_number + 1} separada em {output_file_path}')\n",
    "\n",
    "# Exemplo de uso\n",
    "input_file_path = r\"D:\\BACKUPS !\\PEN DRIVE PRETO\\UESC\\04-01.pdf\"\n",
    "output_directory_path = r\"D:\\BACKUPS !\\PEN DRIVE PRETO\\UESC\"\n",
    "split_pdf_pages(input_file_path, output_directory_path)\n"
   ]
  },
  {
   "cell_type": "code",
   "execution_count": null,
   "id": "b8d93c92",
   "metadata": {},
   "outputs": [],
   "source": []
  }
 ],
 "metadata": {
  "kernelspec": {
   "display_name": "Python 3",
   "language": "python",
   "name": "python3"
  },
  "language_info": {
   "codemirror_mode": {
    "name": "ipython",
    "version": 3
   },
   "file_extension": ".py",
   "mimetype": "text/x-python",
   "name": "python",
   "nbconvert_exporter": "python",
   "pygments_lexer": "ipython3",
   "version": "3.8.8"
  }
 },
 "nbformat": 4,
 "nbformat_minor": 5
}
